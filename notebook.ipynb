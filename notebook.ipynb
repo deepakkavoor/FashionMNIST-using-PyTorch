{
 "cells": [
  {
   "cell_type": "code",
   "execution_count": 1,
   "metadata": {},
   "outputs": [],
   "source": [
    "import torch\n",
    "import torch.nn as nn\n",
    "import torchvision.datasets as dsets\n",
    "import torchvision.transforms as transforms\n",
    "from torch.autograd import Variable\n",
    "import pandas as pd\n",
    "import numpy as np\n",
    "from torch.utils.data import Dataset, DataLoader\n",
    "from sklearn.preprocessing import scale"
   ]
  },
  {
   "cell_type": "code",
   "execution_count": 25,
   "metadata": {},
   "outputs": [],
   "source": [
    "class FashionMNISTDataset(Dataset):\n",
    "    def __init__(self, csv_file, transform = None):\n",
    "        data = pd.read_csv(csv_file)\n",
    "        self.X = np.array(data.iloc[:, 1:]).reshape(-1, 1, 28, 28).astype(float)\n",
    "        \n",
    "        self.Y = np.array(data.iloc[:, 0])\n",
    "\n",
    "        del data;\n",
    "        self.transform = transform\n",
    "        \n",
    "    def __len__(self):\n",
    "        return len(self.X)\n",
    "    \n",
    "    def __getitem__(self, idx):\n",
    "        item = self.X[idx]\n",
    "        label = self.Y[idx]\n",
    "        \n",
    "        if self.transform:\n",
    "            item = self.transform(item)\n",
    "            \n",
    "        return (item, label)"
   ]
  },
  {
   "cell_type": "code",
   "execution_count": 26,
   "metadata": {},
   "outputs": [],
   "source": [
    "num_epochs = 10\n",
    "learning_rate = 0.001\n",
    "batch_size = 100"
   ]
  },
  {
   "cell_type": "code",
   "execution_count": 27,
   "metadata": {},
   "outputs": [],
   "source": [
    "train_dataset = FashionMNISTDataset(csv_file = \n",
    "                                    '/media/user/D:/Image Recognition QSTP/fashion-mnist_train.csv')\n",
    "test_dataset = FashionMNISTDataset(csv_file = \n",
    "                                    '/media/user/D:/Image Recognition QSTP/fashion-mnist_test.csv')"
   ]
  },
  {
   "cell_type": "code",
   "execution_count": 28,
   "metadata": {},
   "outputs": [],
   "source": [
    "train_loader = torch.utils.data.DataLoader(dataset = train_dataset,\n",
    "                                          batch_size = batch_size,\n",
    "                                          shuffle = True)\n",
    "test_loader = torch.utils.data.DataLoader(dataset = test_dataset, \n",
    "                                         batch_size = batch_size,\n",
    "                                         shuffle = False)"
   ]
  },
  {
   "cell_type": "code",
   "execution_count": 29,
   "metadata": {},
   "outputs": [],
   "source": [
    "class CNN(nn.Module):\n",
    "    def __init__(self):\n",
    "        super(CNN, self).__init__()\n",
    "        self.layer1 = nn.Sequential(\n",
    "                    nn.BatchNorm2d(1),\n",
    "                    nn.Conv2d(1, 16, kernel_size = 5, padding = 2),\n",
    "                    nn.BatchNorm2d(16),\n",
    "                    nn.ReLU(),\n",
    "                    nn.MaxPool2d(2))\n",
    "        self.layer2 = nn.Sequential(\n",
    "                    nn.Conv2d(16, 32, kernel_size = 5, padding = 2),\n",
    "                    nn.BatchNorm2d(32),\n",
    "                    nn.ReLU(),\n",
    "                    nn.MaxPool2d(2))\n",
    "        self.fc = nn.Linear(32*7*7, 10)\n",
    "        \n",
    "    def forward(self, x):\n",
    "        out = self.layer1(x)\n",
    "        out = self.layer2(out)\n",
    "        out = out.view(out.size(0), -1)\n",
    "        out = self.fc(out)\n",
    "        return out"
   ]
  },
  {
   "cell_type": "code",
   "execution_count": 30,
   "metadata": {},
   "outputs": [],
   "source": [
    "model = CNN()\n",
    "\n",
    "criterion = nn.CrossEntropyLoss()\n",
    "\n",
    "optimizer = torch.optim.Adam(model.parameters(), lr = learning_rate)"
   ]
  },
  {
   "cell_type": "code",
   "execution_count": 31,
   "metadata": {},
   "outputs": [
    {
     "name": "stdout",
     "output_type": "stream",
     "text": [
      "Epoch : 1/10, Iter : 100/600, Loss: 0.3938\n",
      "Epoch : 1/10, Iter : 200/600, Loss: 0.3515\n",
      "Epoch : 1/10, Iter : 300/600, Loss: 0.3404\n",
      "Epoch : 1/10, Iter : 400/600, Loss: 0.4006\n",
      "Epoch : 1/10, Iter : 500/600, Loss: 0.1676\n",
      "Epoch : 1/10, Iter : 600/600, Loss: 0.3573\n",
      "Epoch : 2/10, Iter : 100/600, Loss: 0.2557\n",
      "Epoch : 2/10, Iter : 200/600, Loss: 0.5157\n",
      "Epoch : 2/10, Iter : 300/600, Loss: 0.2654\n",
      "Epoch : 2/10, Iter : 400/600, Loss: 0.3247\n",
      "Epoch : 2/10, Iter : 500/600, Loss: 0.1414\n",
      "Epoch : 2/10, Iter : 600/600, Loss: 0.3126\n",
      "Epoch : 3/10, Iter : 100/600, Loss: 0.2755\n",
      "Epoch : 3/10, Iter : 200/600, Loss: 0.3203\n",
      "Epoch : 3/10, Iter : 300/600, Loss: 0.3189\n",
      "Epoch : 3/10, Iter : 400/600, Loss: 0.1978\n",
      "Epoch : 3/10, Iter : 500/600, Loss: 0.1513\n",
      "Epoch : 3/10, Iter : 600/600, Loss: 0.1806\n",
      "Epoch : 4/10, Iter : 100/600, Loss: 0.2969\n",
      "Epoch : 4/10, Iter : 200/600, Loss: 0.2739\n",
      "Epoch : 4/10, Iter : 300/600, Loss: 0.2143\n",
      "Epoch : 4/10, Iter : 400/600, Loss: 0.1557\n",
      "Epoch : 4/10, Iter : 500/600, Loss: 0.2402\n",
      "Epoch : 4/10, Iter : 600/600, Loss: 0.1507\n",
      "Epoch : 5/10, Iter : 100/600, Loss: 0.1235\n",
      "Epoch : 5/10, Iter : 200/600, Loss: 0.3447\n",
      "Epoch : 5/10, Iter : 300/600, Loss: 0.1117\n",
      "Epoch : 5/10, Iter : 400/600, Loss: 0.3237\n",
      "Epoch : 5/10, Iter : 500/600, Loss: 0.2223\n",
      "Epoch : 5/10, Iter : 600/600, Loss: 0.1327\n",
      "Epoch : 6/10, Iter : 100/600, Loss: 0.1288\n",
      "Epoch : 6/10, Iter : 200/600, Loss: 0.1550\n",
      "Epoch : 6/10, Iter : 300/600, Loss: 0.1038\n",
      "Epoch : 6/10, Iter : 400/600, Loss: 0.2152\n",
      "Epoch : 6/10, Iter : 500/600, Loss: 0.1638\n",
      "Epoch : 6/10, Iter : 600/600, Loss: 0.2051\n",
      "Epoch : 7/10, Iter : 100/600, Loss: 0.1408\n",
      "Epoch : 7/10, Iter : 200/600, Loss: 0.1231\n",
      "Epoch : 7/10, Iter : 300/600, Loss: 0.1850\n",
      "Epoch : 7/10, Iter : 400/600, Loss: 0.1635\n",
      "Epoch : 7/10, Iter : 500/600, Loss: 0.2116\n",
      "Epoch : 7/10, Iter : 600/600, Loss: 0.1680\n",
      "Epoch : 8/10, Iter : 100/600, Loss: 0.1469\n",
      "Epoch : 8/10, Iter : 200/600, Loss: 0.1118\n",
      "Epoch : 8/10, Iter : 300/600, Loss: 0.2288\n",
      "Epoch : 8/10, Iter : 400/600, Loss: 0.1789\n",
      "Epoch : 8/10, Iter : 500/600, Loss: 0.1823\n",
      "Epoch : 8/10, Iter : 600/600, Loss: 0.2084\n",
      "Epoch : 9/10, Iter : 100/600, Loss: 0.1447\n",
      "Epoch : 9/10, Iter : 200/600, Loss: 0.1712\n",
      "Epoch : 9/10, Iter : 300/600, Loss: 0.1697\n",
      "Epoch : 9/10, Iter : 400/600, Loss: 0.3763\n",
      "Epoch : 9/10, Iter : 500/600, Loss: 0.1759\n",
      "Epoch : 9/10, Iter : 600/600, Loss: 0.2149\n",
      "Epoch : 10/10, Iter : 100/600, Loss: 0.1585\n",
      "Epoch : 10/10, Iter : 200/600, Loss: 0.1072\n",
      "Epoch : 10/10, Iter : 300/600, Loss: 0.2644\n",
      "Epoch : 10/10, Iter : 400/600, Loss: 0.1610\n",
      "Epoch : 10/10, Iter : 500/600, Loss: 0.1692\n",
      "Epoch : 10/10, Iter : 600/600, Loss: 0.0683\n"
     ]
    }
   ],
   "source": [
    "for epoch in range(num_epochs):\n",
    "    for i, (images, labels) in enumerate(train_loader):\n",
    "        \n",
    "        images = Variable(images.float())\n",
    "        labels = Variable(labels)\n",
    "        \n",
    "        optimizer.zero_grad()\n",
    "        outputs = model(images)\n",
    "        \n",
    "        loss = criterion(outputs, labels)\n",
    "        \n",
    "        loss.backward()\n",
    "        optimizer.step()\n",
    "         \n",
    "        if (i+1) % 100 == 0:\n",
    "           print('Epoch : %d/%d, Iter : %d/%d, Loss: %.4f'\n",
    "                %(epoch + 1, num_epochs, i + 1, len(train_dataset) // batch_size, loss.data[0])) "
   ]
  },
  {
   "cell_type": "code",
   "execution_count": 32,
   "metadata": {},
   "outputs": [
    {
     "name": "stdout",
     "output_type": "stream",
     "text": [
      "Test Accuracy of the model: 91.6900 %\n"
     ]
    }
   ],
   "source": [
    "model.eval()\n",
    "correct = 0\n",
    "total = 0\n",
    "\n",
    "for images, labels in test_loader:\n",
    "    \n",
    "    images = Variable(images.float())\n",
    "    outputs = model(images)\n",
    "    \n",
    "    _, predicted = torch.max(outputs.data, 1)\n",
    "    total += labels.size(0)\n",
    "    correct += (labels == predicted).sum()\n",
    "    \n",
    "print('Test Accuracy of the model: %.4f %%' %(100 * correct / total)) "
   ]
  },
  {
   "cell_type": "code",
   "execution_count": null,
   "metadata": {},
   "outputs": [],
   "source": []
  }
 ],
 "metadata": {
  "kernelspec": {
   "display_name": "Python 3",
   "language": "python",
   "name": "python3"
  },
  "language_info": {
   "codemirror_mode": {
    "name": "ipython",
    "version": 3
   },
   "file_extension": ".py",
   "mimetype": "text/x-python",
   "name": "python",
   "nbconvert_exporter": "python",
   "pygments_lexer": "ipython3",
   "version": "3.6.5"
  }
 },
 "nbformat": 4,
 "nbformat_minor": 2
}
