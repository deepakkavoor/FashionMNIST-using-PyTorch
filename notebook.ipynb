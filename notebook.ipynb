{
 "cells": [
  {
   "cell_type": "markdown",
   "metadata": {},
   "source": [
    "# FashionMNIST Classifier in PyTorch\n",
    "\n",
    "This notebook develops a convolutional neural network trained on the FashionMNIST Dataset to classify different categories of clothes."
   ]
  },
  {
   "cell_type": "code",
   "execution_count": 2,
   "metadata": {},
   "outputs": [],
   "source": [
    "import torch\n",
    "import torch.nn as nn\n",
    "import torchvision.transforms as transforms\n",
    "from torch.autograd import Variable\n",
    "from torch.utils.data import Dataset, DataLoader\n",
    "\n",
    "import pandas as pd\n",
    "import numpy as np\n",
    "import matplotlib\n",
    "import matplotlib.pyplot as plt"
   ]
  },
  {
   "cell_type": "markdown",
   "metadata": {},
   "source": [
    "# Dataset Class\n",
    "\n",
    "The following code creates a dataset class, and also a ToTensor class, to convert the numpy arrays to torch tensors."
   ]
  },
  {
   "cell_type": "code",
   "execution_count": 3,
   "metadata": {},
   "outputs": [],
   "source": [
    "class FashionMNISTDataset(Dataset):\n",
    "    def __init__(self, csv_file, transform = None):\n",
    "        data = pd.read_csv(csv_file)\n",
    "        print(\"DATA:\")\n",
    "        print(data.head())\n",
    "        \n",
    "        self.X = np.array(data.iloc[:, 1:]).reshape(-1, 1, 28, 28).astype(float)\n",
    "        self.Y = np.array(data.iloc[:, 0])\n",
    "\n",
    "        del data;\n",
    "        self.transform = transform\n",
    "        \n",
    "    def __len__(self):\n",
    "        \"\"\" Returns the length of the dataset \"\"\"\n",
    "        return len(self.X)\n",
    "    \n",
    "    def __getitem__(self, idx):\n",
    "        \"\"\" Enables indexing into the dataset with the [] operator\"\"\"\n",
    "        item = self.X[idx]\n",
    "        label = self.Y[idx]\n",
    "        \n",
    "        if self.transform:\n",
    "            item = self.transform(item)\n",
    "            \n",
    "        return (item, label)\n",
    "    \n",
    "    \n",
    "class ToTensor(object):\n",
    "    \"\"\" Numpy to Torch Tensor\"\"\"\n",
    "    def __call__(self, sample):\n",
    "        sample = sample / 255\n",
    "        return torch.from_numpy(sample)"
   ]
  },
  {
   "cell_type": "code",
   "execution_count": 4,
   "metadata": {},
   "outputs": [],
   "source": [
    "#setting some learning hyperparameters\n",
    "\n",
    "num_epochs = 10\n",
    "learning_rate = 0.001\n",
    "batch_size = 100"
   ]
  },
  {
   "cell_type": "code",
   "execution_count": 5,
   "metadata": {},
   "outputs": [
    {
     "name": "stdout",
     "output_type": "stream",
     "text": [
      "DATA:\n",
      "   label  pixel1  pixel2  pixel3  pixel4  pixel5  pixel6  pixel7  pixel8  \\\n",
      "0      2       0       0       0       0       0       0       0       0   \n",
      "1      9       0       0       0       0       0       0       0       0   \n",
      "2      6       0       0       0       0       0       0       0       5   \n",
      "3      0       0       0       0       1       2       0       0       0   \n",
      "4      3       0       0       0       0       0       0       0       0   \n",
      "\n",
      "   pixel9    ...     pixel775  pixel776  pixel777  pixel778  pixel779  \\\n",
      "0       0    ...            0         0         0         0         0   \n",
      "1       0    ...            0         0         0         0         0   \n",
      "2       0    ...            0         0         0        30        43   \n",
      "3       0    ...            3         0         0         0         0   \n",
      "4       0    ...            0         0         0         0         0   \n",
      "\n",
      "   pixel780  pixel781  pixel782  pixel783  pixel784  \n",
      "0         0         0         0         0         0  \n",
      "1         0         0         0         0         0  \n",
      "2         0         0         0         0         0  \n",
      "3         1         0         0         0         0  \n",
      "4         0         0         0         0         0  \n",
      "\n",
      "[5 rows x 785 columns]\n"
     ]
    }
   ],
   "source": [
    "#load train dataset\n",
    "\n",
    "train_dataset = FashionMNISTDataset(csv_file = \n",
    "                                    '/media/user/D:/Image Recognition QSTP/fashion-mnist_train.csv',\n",
    "                                   transform = ToTensor())"
   ]
  },
  {
   "cell_type": "code",
   "execution_count": 6,
   "metadata": {},
   "outputs": [
    {
     "name": "stdout",
     "output_type": "stream",
     "text": [
      "DATA:\n",
      "   label  pixel1  pixel2  pixel3  pixel4  pixel5  pixel6  pixel7  pixel8  \\\n",
      "0      0       0       0       0       0       0       0       0       9   \n",
      "1      1       0       0       0       0       0       0       0       0   \n",
      "2      2       0       0       0       0       0       0      14      53   \n",
      "3      2       0       0       0       0       0       0       0       0   \n",
      "4      3       0       0       0       0       0       0       0       0   \n",
      "\n",
      "   pixel9    ...     pixel775  pixel776  pixel777  pixel778  pixel779  \\\n",
      "0       8    ...          103        87        56         0         0   \n",
      "1       0    ...           34         0         0         0         0   \n",
      "2      99    ...            0         0         0         0        63   \n",
      "3       0    ...          137       126       140         0       133   \n",
      "4       0    ...            0         0         0         0         0   \n",
      "\n",
      "   pixel780  pixel781  pixel782  pixel783  pixel784  \n",
      "0         0         0         0         0         0  \n",
      "1         0         0         0         0         0  \n",
      "2        53        31         0         0         0  \n",
      "3       224       222        56         0         0  \n",
      "4         0         0         0         0         0  \n",
      "\n",
      "[5 rows x 785 columns]\n"
     ]
    }
   ],
   "source": [
    "#load test dataset\n",
    "\n",
    "test_dataset = FashionMNISTDataset(csv_file = \n",
    "                                    '/media/user/D:/Image Recognition QSTP/fashion-mnist_test.csv',\n",
    "                                  transform = ToTensor())"
   ]
  },
  {
   "cell_type": "code",
   "execution_count": 7,
   "metadata": {},
   "outputs": [],
   "source": [
    "#make the datasets iterable\n",
    "\n",
    "train_loader = torch.utils.data.DataLoader(dataset = train_dataset,\n",
    "                                          batch_size = batch_size,\n",
    "                                          shuffle = True)\n",
    "\n",
    "test_loader = torch.utils.data.DataLoader(dataset = test_dataset, \n",
    "                                         batch_size = batch_size,\n",
    "                                         shuffle = True)"
   ]
  },
  {
   "cell_type": "markdown",
   "metadata": {},
   "source": [
    "# Visualizing the Data\n",
    "\n",
    "Twenty random samples from the training dataset are plotted alongside their corresponding labels."
   ]
  },
  {
   "cell_type": "code",
   "execution_count": 8,
   "metadata": {},
   "outputs": [
    {
     "data": {
      "image/png": "[encoded data removed]",
      "text/plain": [
       "<Figure size 576x576 with 20 Axes>"
      ]
     },
     "metadata": {},
     "output_type": "display_data"
    }
   ],
   "source": [
    "labels_map = {0 : 'T-Shirt', 1 : 'Trouser', 2 : 'Pullover', 3 : 'Dress', 4 : 'Coat', 5 : 'Sandal', 6 : 'Shirt',\n",
    "              7 : 'Sneaker', 8 : 'Bag', 9 : 'Ankle Boot'}\n",
    "\n",
    "N = len(train_dataset)\n",
    "fig = plt.figure(figsize = (8, 8))\n",
    "\n",
    "for i in range(1, 21):\n",
    "    img_index = np.random.randint(N)\n",
    "    img = train_dataset[img_index][0][0, :, :]\n",
    "    fig.add_subplot(4, 5, i)\n",
    "    plt.title(labels_map[train_dataset[img_index][1]])\n",
    "    plt.axis('off')\n",
    "    plt.imshow(img, cmap = 'gray')\n",
    "    \n",
    "plt.show()"
   ]
  },
  {
   "cell_type": "markdown",
   "metadata": {},
   "source": [
    "# Creating the Neural Network Class\n",
    "\n",
    "The architecture used in the following convolutional neural network is:\n",
    "CONV -> ReLU -> MAXPOOL -> CONV -> ReLU -> MAXPOOL -> FC -> FC"
   ]
  },
  {
   "cell_type": "code",
   "execution_count": 10,
   "metadata": {},
   "outputs": [
    {
     "name": "stdout",
     "output_type": "stream",
     "text": [
      "CNN(\n",
      "  (layer1): Sequential(\n",
      "    (0): Conv2d(1, 16, kernel_size=(5, 5), stride=(1, 1), padding=(2, 2))\n",
      "    (1): Dropout2d(p=0.2)\n",
      "    (2): BatchNorm2d(16, eps=1e-05, momentum=0.1, affine=True)\n",
      "    (3): ReLU()\n",
      "    (4): MaxPool2d(kernel_size=(2, 2), stride=(2, 2), dilation=(1, 1), ceil_mode=False)\n",
      "  )\n",
      "  (layer2): Sequential(\n",
      "    (0): Conv2d(16, 32, kernel_size=(5, 5), stride=(1, 1), padding=(2, 2))\n",
      "    (1): Dropout2d(p=0.2)\n",
      "    (2): BatchNorm2d(32, eps=1e-05, momentum=0.1, affine=True)\n",
      "    (3): ReLU()\n",
      "    (4): MaxPool2d(kernel_size=(2, 2), stride=(2, 2), dilation=(1, 1), ceil_mode=False)\n",
      "  )\n",
      "  (layer3): Sequential(\n",
      "    (0): Linear(in_features=1568, out_features=120, bias=True)\n",
      "    (1): Dropout(p=0.4)\n",
      "    (2): Linear(in_features=120, out_features=10, bias=True)\n",
      "  )\n",
      ")\n"
     ]
    }
   ],
   "source": [
    "class CNN(nn.Module):\n",
    "    def __init__(self):\n",
    "        super(CNN, self).__init__()\n",
    "        \n",
    "        self.layer1 = nn.Sequential(\n",
    "            nn.Conv2d(1, 16, kernel_size=5, padding=2),\n",
    "            nn.Dropout2d(p = 0.2),\n",
    "            nn.BatchNorm2d(16),\n",
    "            nn.ReLU(),\n",
    "            nn.MaxPool2d(2))\n",
    "        \n",
    "        self.layer2 = nn.Sequential(\n",
    "            nn.Conv2d(16, 32, kernel_size=5, padding=2),\n",
    "            nn.Dropout2d(p = 0.2),\n",
    "            nn.BatchNorm2d(32),\n",
    "            nn.ReLU(),\n",
    "            nn.MaxPool2d(2))\n",
    "        \n",
    "        self.layer3 = nn.Sequential(\n",
    "            nn.Linear(7*7*32, 120),\n",
    "            nn.Dropout(p = 0.4),\n",
    "            nn.Linear(120, 10))\n",
    "            \n",
    "        \n",
    "    def forward(self, x):\n",
    "        out = self.layer1(x)\n",
    "        out = self.layer2(out)\n",
    "        out = out.view(out.size(0), -1)\n",
    "        out = self.layer3(out)\n",
    "        return out\n",
    "            \n",
    "model = CNN()\n",
    "print(model)"
   ]
  },
  {
   "cell_type": "code",
   "execution_count": 11,
   "metadata": {},
   "outputs": [
    {
     "name": "stdout",
     "output_type": "stream",
     "text": [
      "12\n",
      "torch.Size([16, 1, 5, 5])\n",
      "torch.Size([32, 16, 5, 5])\n",
      "torch.Size([120, 1568])\n",
      "torch.Size([10, 120])\n"
     ]
    }
   ],
   "source": [
    "#parameter sizes, excluding bias\n",
    "\n",
    "params = list(model.parameters())\n",
    "print(len(params))\n",
    "print(params[0].size())\n",
    "print(params[4].size())\n",
    "print(params[8].size())\n",
    "print(params[10].size())"
   ]
  },
  {
   "cell_type": "code",
   "execution_count": 12,
   "metadata": {},
   "outputs": [],
   "source": [
    "#set the loss and optimizer class\n",
    "\n",
    "criterion = nn.CrossEntropyLoss()\n",
    "\n",
    "optimizer = torch.optim.Adam(model.parameters(), lr = learning_rate)"
   ]
  },
  {
   "cell_type": "markdown",
   "metadata": {},
   "source": [
    "# Train the model\n",
    "\n",
    "Training the model for specified number of epochs and viewing test accuracies at intermediate stages."
   ]
  },
  {
   "cell_type": "code",
   "execution_count": 15,
   "metadata": {},
   "outputs": [
    {
     "name": "stdout",
     "output_type": "stream",
     "text": [
      "Epoch : 1/10, Iter : 100/600, Loss: 0.3278\n",
      "Epoch : 1/10, Iter : 200/600, Loss: 0.3734\n",
      "Test Accuracy of the model: 88.4900 % at iteration 250\n",
      "Epoch : 1/10, Iter : 300/600, Loss: 0.3458\n",
      "Epoch : 1/10, Iter : 400/600, Loss: 0.2087\n",
      "Epoch : 1/10, Iter : 500/600, Loss: 0.5158\n",
      "Test Accuracy of the model: 89.0000 % at iteration 500\n",
      "Epoch : 1/10, Iter : 600/600, Loss: 0.2249\n",
      "Epoch : 2/10, Iter : 100/600, Loss: 0.3801\n",
      "Epoch : 2/10, Iter : 200/600, Loss: 0.4896\n",
      "Test Accuracy of the model: 88.8600 % at iteration 250\n",
      "Epoch : 2/10, Iter : 300/600, Loss: 0.2206\n",
      "Epoch : 2/10, Iter : 400/600, Loss: 0.3864\n",
      "Epoch : 2/10, Iter : 500/600, Loss: 0.3451\n",
      "Test Accuracy of the model: 90.3800 % at iteration 500\n",
      "Epoch : 2/10, Iter : 600/600, Loss: 0.3960\n",
      "Epoch : 3/10, Iter : 100/600, Loss: 0.2773\n",
      "Epoch : 3/10, Iter : 200/600, Loss: 0.2569\n",
      "Test Accuracy of the model: 90.2200 % at iteration 250\n",
      "Epoch : 3/10, Iter : 300/600, Loss: 0.3322\n",
      "Epoch : 3/10, Iter : 400/600, Loss: 0.2557\n",
      "Epoch : 3/10, Iter : 500/600, Loss: 0.2722\n",
      "Test Accuracy of the model: 90.2800 % at iteration 500\n",
      "Epoch : 3/10, Iter : 600/600, Loss: 0.2247\n",
      "Epoch : 4/10, Iter : 100/600, Loss: 0.4036\n",
      "Epoch : 4/10, Iter : 200/600, Loss: 0.3982\n",
      "Test Accuracy of the model: 90.1800 % at iteration 250\n",
      "Epoch : 4/10, Iter : 300/600, Loss: 0.1805\n",
      "Epoch : 4/10, Iter : 400/600, Loss: 0.2397\n",
      "Epoch : 4/10, Iter : 500/600, Loss: 0.2586\n",
      "Test Accuracy of the model: 90.9300 % at iteration 500\n",
      "Epoch : 4/10, Iter : 600/600, Loss: 0.1769\n",
      "Epoch : 5/10, Iter : 100/600, Loss: 0.3974\n",
      "Epoch : 5/10, Iter : 200/600, Loss: 0.1707\n",
      "Test Accuracy of the model: 90.8800 % at iteration 250\n",
      "Epoch : 5/10, Iter : 300/600, Loss: 0.2396\n",
      "Epoch : 5/10, Iter : 400/600, Loss: 0.1883\n",
      "Epoch : 5/10, Iter : 500/600, Loss: 0.2425\n",
      "Test Accuracy of the model: 90.2000 % at iteration 500\n",
      "Epoch : 5/10, Iter : 600/600, Loss: 0.2740\n",
      "Epoch : 6/10, Iter : 100/600, Loss: 0.2006\n",
      "Epoch : 6/10, Iter : 200/600, Loss: 0.3918\n",
      "Test Accuracy of the model: 90.9300 % at iteration 250\n",
      "Epoch : 6/10, Iter : 300/600, Loss: 0.2262\n",
      "Epoch : 6/10, Iter : 400/600, Loss: 0.3080\n",
      "Epoch : 6/10, Iter : 500/600, Loss: 0.1023\n",
      "Test Accuracy of the model: 91.5200 % at iteration 500\n",
      "Epoch : 6/10, Iter : 600/600, Loss: 0.1187\n",
      "Epoch : 7/10, Iter : 100/600, Loss: 0.3524\n",
      "Epoch : 7/10, Iter : 200/600, Loss: 0.3657\n",
      "Test Accuracy of the model: 90.5300 % at iteration 250\n",
      "Epoch : 7/10, Iter : 300/600, Loss: 0.2647\n",
      "Epoch : 7/10, Iter : 400/600, Loss: 0.1782\n",
      "Epoch : 7/10, Iter : 500/600, Loss: 0.1394\n",
      "Test Accuracy of the model: 91.3400 % at iteration 500\n",
      "Epoch : 7/10, Iter : 600/600, Loss: 0.1603\n",
      "Epoch : 8/10, Iter : 100/600, Loss: 0.2046\n",
      "Epoch : 8/10, Iter : 200/600, Loss: 0.2324\n",
      "Test Accuracy of the model: 91.1400 % at iteration 250\n",
      "Epoch : 8/10, Iter : 300/600, Loss: 0.2107\n",
      "Epoch : 8/10, Iter : 400/600, Loss: 0.1467\n",
      "Epoch : 8/10, Iter : 500/600, Loss: 0.3138\n",
      "Test Accuracy of the model: 91.5400 % at iteration 500\n",
      "Epoch : 8/10, Iter : 600/600, Loss: 0.3035\n",
      "Epoch : 9/10, Iter : 100/600, Loss: 0.3163\n",
      "Epoch : 9/10, Iter : 200/600, Loss: 0.3341\n",
      "Test Accuracy of the model: 91.0600 % at iteration 250\n",
      "Epoch : 9/10, Iter : 300/600, Loss: 0.1508\n",
      "Epoch : 9/10, Iter : 400/600, Loss: 0.1985\n",
      "Epoch : 9/10, Iter : 500/600, Loss: 0.1320\n",
      "Test Accuracy of the model: 91.5900 % at iteration 500\n",
      "Epoch : 9/10, Iter : 600/600, Loss: 0.2408\n",
      "Epoch : 10/10, Iter : 100/600, Loss: 0.3676\n",
      "Epoch : 10/10, Iter : 200/600, Loss: 0.2658\n",
      "Test Accuracy of the model: 91.2900 % at iteration 250\n",
      "Epoch : 10/10, Iter : 300/600, Loss: 0.1706\n",
      "Epoch : 10/10, Iter : 400/600, Loss: 0.1526\n",
      "Epoch : 10/10, Iter : 500/600, Loss: 0.1497\n",
      "Test Accuracy of the model: 91.3600 % at iteration 500\n",
      "Epoch : 10/10, Iter : 600/600, Loss: 0.1482\n"
     ]
    }
   ],
   "source": [
    "for epoch in range(num_epochs):\n",
    "    model.train()\n",
    "    for i, (images, labels) in enumerate(train_loader):\n",
    "        \n",
    "        images = Variable(images.float())\n",
    "        labels = Variable(labels)\n",
    "        \n",
    "        optimizer.zero_grad()\n",
    "        outputs = model(images)\n",
    "        \n",
    "        loss = criterion(outputs, labels)\n",
    "        \n",
    "        loss.backward()\n",
    "        optimizer.step()\n",
    "         \n",
    "        if (i+1) % 100 == 0:\n",
    "           print('Epoch : %d/%d, Iter : %d/%d, Loss: %.4f'\n",
    "                %(epoch + 1, num_epochs, i + 1, len(train_dataset) // batch_size, loss.data[0])) \n",
    "        \n",
    "        if (i + 1) % 250 == 0:\n",
    "            model.eval()\n",
    "            \n",
    "            correct = 0\n",
    "            total = 0\n",
    "\n",
    "            for images, labels in test_loader:\n",
    "    \n",
    "                images = Variable(images.float())\n",
    "                outputs = model(images)\n",
    "    \n",
    "                _, predicted = torch.max(outputs.data, 1)\n",
    "                total += labels.size(0)\n",
    "                correct += (labels == predicted).sum()\n",
    "    \n",
    "            print('Test Accuracy of the model: %.4f %% at iteration %d' %(100 * correct / total, i + 1)) "
   ]
  },
  {
   "cell_type": "markdown",
   "metadata": {},
   "source": [
    "# Evaluating the model\n",
    "\n",
    "The trained model is finally evaluated on the test set to determine a final accuracy of 91.45%"
   ]
  },
  {
   "cell_type": "code",
   "execution_count": 16,
   "metadata": {},
   "outputs": [
    {
     "name": "stdout",
     "output_type": "stream",
     "text": [
      "Final Test Accuracy of the model: 91.4500 %\n"
     ]
    }
   ],
   "source": [
    "model.eval()\n",
    "correct = 0\n",
    "total = 0\n",
    "\n",
    "for images, labels in test_loader:\n",
    "    \n",
    "    images = Variable(images.float())\n",
    "    outputs = model(images)\n",
    "    \n",
    "    _, predicted = torch.max(outputs.data, 1)\n",
    "    total += labels.size(0)\n",
    "    correct += (labels == predicted).sum()\n",
    "    \n",
    "print('Final Test Accuracy of the model: %.4f %%' %(100 * correct / total)) "
   ]
  },
  {
   "cell_type": "code",
   "execution_count": null,
   "metadata": {},
   "outputs": [],
   "source": []
  }
 ],
 "metadata": {
  "kernelspec": {
   "display_name": "Python 3",
   "language": "python",
   "name": "python3"
  },
  "language_info": {
   "codemirror_mode": {
    "name": "ipython",
    "version": 3
   },
   "file_extension": ".py",
   "mimetype": "text/x-python",
   "name": "python",
   "nbconvert_exporter": "python",
   "pygments_lexer": "ipython3",
   "version": "3.6.5"
  }
 },
 "nbformat": 4,
 "nbformat_minor": 2
}
